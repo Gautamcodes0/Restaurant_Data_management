{
 "cells": [
  {
   "cell_type": "code",
   "execution_count": 1,
   "id": "c0634faf",
   "metadata": {},
   "outputs": [],
   "source": [
    "import pandas as pd"
   ]
  },
  {
   "cell_type": "code",
   "execution_count": 2,
   "id": "bad56384",
   "metadata": {},
   "outputs": [],
   "source": [
    "Data = pd.read_csv(\"C:\\\\Users\\\\girip\\\\Downloads\\\\archive\\\\BangaloreZomatoData.zip\")"
   ]
  },
  {
   "cell_type": "code",
   "execution_count": 3,
   "id": "8ad8114d",
   "metadata": {},
   "outputs": [
    {
     "data": {
      "text/html": [
       "<div>\n",
       "<style scoped>\n",
       "    .dataframe tbody tr th:only-of-type {\n",
       "        vertical-align: middle;\n",
       "    }\n",
       "\n",
       "    .dataframe tbody tr th {\n",
       "        vertical-align: top;\n",
       "    }\n",
       "\n",
       "    .dataframe thead th {\n",
       "        text-align: right;\n",
       "    }\n",
       "</style>\n",
       "<table border=\"1\" class=\"dataframe\">\n",
       "  <thead>\n",
       "    <tr style=\"text-align: right;\">\n",
       "      <th></th>\n",
       "      <th>Name</th>\n",
       "      <th>URL</th>\n",
       "      <th>Cuisines</th>\n",
       "      <th>Area</th>\n",
       "      <th>Timing</th>\n",
       "      <th>Full_Address</th>\n",
       "      <th>PhoneNumber</th>\n",
       "      <th>IsHomeDelivery</th>\n",
       "      <th>isTakeaway</th>\n",
       "      <th>isIndoorSeating</th>\n",
       "      <th>isVegOnly</th>\n",
       "      <th>Dinner Ratings</th>\n",
       "      <th>Dinner Reviews</th>\n",
       "      <th>Delivery Ratings</th>\n",
       "      <th>Delivery Reviews</th>\n",
       "      <th>KnownFor</th>\n",
       "      <th>PopularDishes</th>\n",
       "      <th>PeopleKnownFor</th>\n",
       "      <th>AverageCost</th>\n",
       "    </tr>\n",
       "  </thead>\n",
       "  <tbody>\n",
       "    <tr>\n",
       "      <th>0</th>\n",
       "      <td>Sri Udupi Park</td>\n",
       "      <td>https://www.zomato.com/bangalore/sri-udupi-par...</td>\n",
       "      <td>South Indian, North Indian, Chinese, Street Fo...</td>\n",
       "      <td>Indiranagar, Bangalore</td>\n",
       "      <td>7am – 11pm (Today)</td>\n",
       "      <td>273, Monalisa, 6th Main, 100 Feet Road, Indira...</td>\n",
       "      <td>+919945977774</td>\n",
       "      <td>1</td>\n",
       "      <td>1</td>\n",
       "      <td>1</td>\n",
       "      <td>1</td>\n",
       "      <td>4.0</td>\n",
       "      <td>462</td>\n",
       "      <td>4.1</td>\n",
       "      <td>16000</td>\n",
       "      <td>NaN</td>\n",
       "      <td>Filtered Coffee, Sambhar, Pav Bhaji, Gobi Manc...</td>\n",
       "      <td>Economical, Prompt Service, Hygiene, Quality F...</td>\n",
       "      <td>450</td>\n",
       "    </tr>\n",
       "    <tr>\n",
       "      <th>1</th>\n",
       "      <td>Meghana Foods</td>\n",
       "      <td>https://www.zomato.com/bangalore/meghana-foods...</td>\n",
       "      <td>Biryani, Andhra, North Indian, Seafood</td>\n",
       "      <td>Indiranagar, Bangalore</td>\n",
       "      <td>Opens at 6:30pm</td>\n",
       "      <td>544, First Floor, CMH Road, Near Indiranagar M...</td>\n",
       "      <td>+918041135050</td>\n",
       "      <td>1</td>\n",
       "      <td>1</td>\n",
       "      <td>1</td>\n",
       "      <td>0</td>\n",
       "      <td>4.3</td>\n",
       "      <td>1654</td>\n",
       "      <td>4.3</td>\n",
       "      <td>28600</td>\n",
       "      <td>Spicy Chicken Biryani</td>\n",
       "      <td>Authentic Hyderabadi Biryani, Paneer Biryani, ...</td>\n",
       "      <td>Boneless Chicken Biryani, Ample Seating Area, ...</td>\n",
       "      <td>700</td>\n",
       "    </tr>\n",
       "    <tr>\n",
       "      <th>2</th>\n",
       "      <td>Donne Biriyani House</td>\n",
       "      <td>https://www.zomato.com/bangalore/donne-biriyan...</td>\n",
       "      <td>Biryani</td>\n",
       "      <td>Indiranagar, Bangalore</td>\n",
       "      <td>11am – 11pm (Today)</td>\n",
       "      <td>8/ 9, 17th F Cross, 2nd Stage, Indiranagar, Ba...</td>\n",
       "      <td>+918861564169</td>\n",
       "      <td>1</td>\n",
       "      <td>1</td>\n",
       "      <td>1</td>\n",
       "      <td>0</td>\n",
       "      <td>3.9</td>\n",
       "      <td>411</td>\n",
       "      <td>3.5</td>\n",
       "      <td>33200</td>\n",
       "      <td>NaN</td>\n",
       "      <td>NaN</td>\n",
       "      <td>Great Recommendations, Nice Taste, Great Ambia...</td>\n",
       "      <td>300</td>\n",
       "    </tr>\n",
       "    <tr>\n",
       "      <th>3</th>\n",
       "      <td>Domino's Pizza</td>\n",
       "      <td>https://www.zomato.com/bangalore/dominos-pizza...</td>\n",
       "      <td>Pizza, Fast Food, Desserts</td>\n",
       "      <td>Indiranagar, Bangalore</td>\n",
       "      <td>10:57am – 12midnight (Today)</td>\n",
       "      <td>308, 2nd Stage, 100 Feet Road, Indiranagar, Ba...</td>\n",
       "      <td>+919916465787</td>\n",
       "      <td>1</td>\n",
       "      <td>1</td>\n",
       "      <td>1</td>\n",
       "      <td>0</td>\n",
       "      <td>2.4</td>\n",
       "      <td>422</td>\n",
       "      <td>4.4</td>\n",
       "      <td>8205</td>\n",
       "      <td>NaN</td>\n",
       "      <td>Barbeque Chicken Pizza, Choco Lava Cake, White...</td>\n",
       "      <td>Value for Money, Packaging, Staff, Ambience, Food</td>\n",
       "      <td>400</td>\n",
       "    </tr>\n",
       "    <tr>\n",
       "      <th>4</th>\n",
       "      <td>KFC</td>\n",
       "      <td>https://www.zomato.com/bangalore/kfc-indiranagar</td>\n",
       "      <td>Burger, Fast Food, Biryani, Desserts, Beverages</td>\n",
       "      <td>Indiranagar, Bangalore</td>\n",
       "      <td>11am – 11pm (Today)</td>\n",
       "      <td>38/1A, CMH Road, Indiranagar, Bangalore</td>\n",
       "      <td>+919513700040</td>\n",
       "      <td>1</td>\n",
       "      <td>1</td>\n",
       "      <td>1</td>\n",
       "      <td>0</td>\n",
       "      <td>2.8</td>\n",
       "      <td>673</td>\n",
       "      <td>4.0</td>\n",
       "      <td>9148</td>\n",
       "      <td>NaN</td>\n",
       "      <td>Fiery Chicken, Chicken Popcorn, Rice Bowl, Wings</td>\n",
       "      <td>Elegantly Decorated, Great Recommendations, Vi...</td>\n",
       "      <td>400</td>\n",
       "    </tr>\n",
       "    <tr>\n",
       "      <th>...</th>\n",
       "      <td>...</td>\n",
       "      <td>...</td>\n",
       "      <td>...</td>\n",
       "      <td>...</td>\n",
       "      <td>...</td>\n",
       "      <td>...</td>\n",
       "      <td>...</td>\n",
       "      <td>...</td>\n",
       "      <td>...</td>\n",
       "      <td>...</td>\n",
       "      <td>...</td>\n",
       "      <td>...</td>\n",
       "      <td>...</td>\n",
       "      <td>...</td>\n",
       "      <td>...</td>\n",
       "      <td>...</td>\n",
       "      <td>...</td>\n",
       "      <td>...</td>\n",
       "      <td>...</td>\n",
       "    </tr>\n",
       "    <tr>\n",
       "      <th>8918</th>\n",
       "      <td>New SBFC Food Funda</td>\n",
       "      <td>https://www.zomato.com/bangalore/new-sbfc-food...</td>\n",
       "      <td>Fast Food</td>\n",
       "      <td>Frazer Town, Bangalore</td>\n",
       "      <td>4:30pm – 11:45pm (Today)</td>\n",
       "      <td>667/1, 9th Cross, Periyan Nagar, Devara Jeevan...</td>\n",
       "      <td>+916291201792</td>\n",
       "      <td>1</td>\n",
       "      <td>1</td>\n",
       "      <td>1</td>\n",
       "      <td>0</td>\n",
       "      <td>3.7</td>\n",
       "      <td>14</td>\n",
       "      <td>4.0</td>\n",
       "      <td>48</td>\n",
       "      <td>NaN</td>\n",
       "      <td>NaN</td>\n",
       "      <td>Cheap and Affordable, Served Quickly, Fresh Fo...</td>\n",
       "      <td>300</td>\n",
       "    </tr>\n",
       "    <tr>\n",
       "      <th>8919</th>\n",
       "      <td>Kudla - Coraltree</td>\n",
       "      <td>https://www.zomato.com/bangalore/kudla-coraltr...</td>\n",
       "      <td>Seafood, Mangalorean, Beverages</td>\n",
       "      <td>Coraltree, RT Nagar, Bangalore</td>\n",
       "      <td>12noon – 10pm (Today)</td>\n",
       "      <td>Coraltree, 16, MLA Layout, RT Nagar Main Road,...</td>\n",
       "      <td>+917760978681</td>\n",
       "      <td>1</td>\n",
       "      <td>1</td>\n",
       "      <td>0</td>\n",
       "      <td>0</td>\n",
       "      <td>3.9</td>\n",
       "      <td>348</td>\n",
       "      <td>4.3</td>\n",
       "      <td>564</td>\n",
       "      <td>NaN</td>\n",
       "      <td>Neer Dosa, Chicken Ghee Roast, Seafood, Crab, ...</td>\n",
       "      <td>Authentic, Cashless Payments, Preparation, Dec...</td>\n",
       "      <td>1200</td>\n",
       "    </tr>\n",
       "    <tr>\n",
       "      <th>8920</th>\n",
       "      <td>Bangkok Bowl</td>\n",
       "      <td>https://www.zomato.com/bangalore/bangkok-bowl-...</td>\n",
       "      <td>Salad, Chinese</td>\n",
       "      <td>Kammanahalli, Bangalore</td>\n",
       "      <td>12noon – 3pm, 6:30pm – 10pm (Today)</td>\n",
       "      <td>403, 3A Cross, Mariayappa Road, Kammanahalli, ...</td>\n",
       "      <td>+919739999170</td>\n",
       "      <td>1</td>\n",
       "      <td>1</td>\n",
       "      <td>0</td>\n",
       "      <td>0</td>\n",
       "      <td>-</td>\n",
       "      <td>0</td>\n",
       "      <td>3.7</td>\n",
       "      <td>254</td>\n",
       "      <td>NaN</td>\n",
       "      <td>NaN</td>\n",
       "      <td>Contactless Delivery, Portion, Great Portions,...</td>\n",
       "      <td>300</td>\n",
       "    </tr>\n",
       "    <tr>\n",
       "      <th>8921</th>\n",
       "      <td>Yuan Restaurant</td>\n",
       "      <td>https://www.zomato.com/bangalore/yuan-restaura...</td>\n",
       "      <td>Thai, Chinese</td>\n",
       "      <td>HBR Layout, Bangalore</td>\n",
       "      <td>Opens at 7pm</td>\n",
       "      <td>2&amp;3, Renu Arcade, 1st Stage, 2nd Block, 80 Fee...</td>\n",
       "      <td>+919901047070</td>\n",
       "      <td>1</td>\n",
       "      <td>1</td>\n",
       "      <td>1</td>\n",
       "      <td>0</td>\n",
       "      <td>3.8</td>\n",
       "      <td>188</td>\n",
       "      <td>3.5</td>\n",
       "      <td>3169</td>\n",
       "      <td>NaN</td>\n",
       "      <td>NaN</td>\n",
       "      <td>Calm, Prompt Service, Portions, Spicy, Delicio...</td>\n",
       "      <td>400</td>\n",
       "    </tr>\n",
       "    <tr>\n",
       "      <th>8922</th>\n",
       "      <td>Amma's Biryani &amp; Rice</td>\n",
       "      <td>https://www.zomato.com/bangalore/ammas-biryani...</td>\n",
       "      <td>Biryani, Fast Food</td>\n",
       "      <td>Kammanahalli, Bangalore</td>\n",
       "      <td>11:30am – 11:30pm (Today)</td>\n",
       "      <td>21, Ground Floor, Praise The Lord Mansion, Neh...</td>\n",
       "      <td>+917349446837</td>\n",
       "      <td>1</td>\n",
       "      <td>1</td>\n",
       "      <td>1</td>\n",
       "      <td>0</td>\n",
       "      <td>3.9</td>\n",
       "      <td>6</td>\n",
       "      <td>-</td>\n",
       "      <td>18</td>\n",
       "      <td>NaN</td>\n",
       "      <td>NaN</td>\n",
       "      <td>NaN</td>\n",
       "      <td>300</td>\n",
       "    </tr>\n",
       "  </tbody>\n",
       "</table>\n",
       "<p>8923 rows × 19 columns</p>\n",
       "</div>"
      ],
      "text/plain": [
       "                       Name  \\\n",
       "0            Sri Udupi Park   \n",
       "1             Meghana Foods   \n",
       "2      Donne Biriyani House   \n",
       "3            Domino's Pizza   \n",
       "4                       KFC   \n",
       "...                     ...   \n",
       "8918    New SBFC Food Funda   \n",
       "8919      Kudla - Coraltree   \n",
       "8920           Bangkok Bowl   \n",
       "8921        Yuan Restaurant   \n",
       "8922  Amma's Biryani & Rice   \n",
       "\n",
       "                                                    URL  \\\n",
       "0     https://www.zomato.com/bangalore/sri-udupi-par...   \n",
       "1     https://www.zomato.com/bangalore/meghana-foods...   \n",
       "2     https://www.zomato.com/bangalore/donne-biriyan...   \n",
       "3     https://www.zomato.com/bangalore/dominos-pizza...   \n",
       "4      https://www.zomato.com/bangalore/kfc-indiranagar   \n",
       "...                                                 ...   \n",
       "8918  https://www.zomato.com/bangalore/new-sbfc-food...   \n",
       "8919  https://www.zomato.com/bangalore/kudla-coraltr...   \n",
       "8920  https://www.zomato.com/bangalore/bangkok-bowl-...   \n",
       "8921  https://www.zomato.com/bangalore/yuan-restaura...   \n",
       "8922  https://www.zomato.com/bangalore/ammas-biryani...   \n",
       "\n",
       "                                               Cuisines  \\\n",
       "0     South Indian, North Indian, Chinese, Street Fo...   \n",
       "1                Biryani, Andhra, North Indian, Seafood   \n",
       "2                                               Biryani   \n",
       "3                            Pizza, Fast Food, Desserts   \n",
       "4       Burger, Fast Food, Biryani, Desserts, Beverages   \n",
       "...                                                 ...   \n",
       "8918                                          Fast Food   \n",
       "8919                    Seafood, Mangalorean, Beverages   \n",
       "8920                                     Salad, Chinese   \n",
       "8921                                      Thai, Chinese   \n",
       "8922                                 Biryani, Fast Food   \n",
       "\n",
       "                                Area                               Timing  \\\n",
       "0             Indiranagar, Bangalore                   7am – 11pm (Today)   \n",
       "1             Indiranagar, Bangalore                      Opens at 6:30pm   \n",
       "2             Indiranagar, Bangalore                  11am – 11pm (Today)   \n",
       "3             Indiranagar, Bangalore         10:57am – 12midnight (Today)   \n",
       "4             Indiranagar, Bangalore                  11am – 11pm (Today)   \n",
       "...                              ...                                  ...   \n",
       "8918          Frazer Town, Bangalore             4:30pm – 11:45pm (Today)   \n",
       "8919  Coraltree, RT Nagar, Bangalore                12noon – 10pm (Today)   \n",
       "8920         Kammanahalli, Bangalore  12noon – 3pm, 6:30pm – 10pm (Today)   \n",
       "8921           HBR Layout, Bangalore                         Opens at 7pm   \n",
       "8922         Kammanahalli, Bangalore            11:30am – 11:30pm (Today)   \n",
       "\n",
       "                                           Full_Address    PhoneNumber  \\\n",
       "0     273, Monalisa, 6th Main, 100 Feet Road, Indira...  +919945977774   \n",
       "1     544, First Floor, CMH Road, Near Indiranagar M...  +918041135050   \n",
       "2     8/ 9, 17th F Cross, 2nd Stage, Indiranagar, Ba...  +918861564169   \n",
       "3     308, 2nd Stage, 100 Feet Road, Indiranagar, Ba...  +919916465787   \n",
       "4               38/1A, CMH Road, Indiranagar, Bangalore  +919513700040   \n",
       "...                                                 ...            ...   \n",
       "8918  667/1, 9th Cross, Periyan Nagar, Devara Jeevan...  +916291201792   \n",
       "8919  Coraltree, 16, MLA Layout, RT Nagar Main Road,...  +917760978681   \n",
       "8920  403, 3A Cross, Mariayappa Road, Kammanahalli, ...  +919739999170   \n",
       "8921  2&3, Renu Arcade, 1st Stage, 2nd Block, 80 Fee...  +919901047070   \n",
       "8922  21, Ground Floor, Praise The Lord Mansion, Neh...  +917349446837   \n",
       "\n",
       "      IsHomeDelivery  isTakeaway  isIndoorSeating  isVegOnly Dinner Ratings  \\\n",
       "0                  1           1                1          1            4.0   \n",
       "1                  1           1                1          0            4.3   \n",
       "2                  1           1                1          0            3.9   \n",
       "3                  1           1                1          0            2.4   \n",
       "4                  1           1                1          0            2.8   \n",
       "...              ...         ...              ...        ...            ...   \n",
       "8918               1           1                1          0            3.7   \n",
       "8919               1           1                0          0            3.9   \n",
       "8920               1           1                0          0              -   \n",
       "8921               1           1                1          0            3.8   \n",
       "8922               1           1                1          0            3.9   \n",
       "\n",
       "      Dinner Reviews Delivery Ratings  Delivery Reviews  \\\n",
       "0                462              4.1             16000   \n",
       "1               1654              4.3             28600   \n",
       "2                411              3.5             33200   \n",
       "3                422              4.4              8205   \n",
       "4                673              4.0              9148   \n",
       "...              ...              ...               ...   \n",
       "8918              14              4.0                48   \n",
       "8919             348              4.3               564   \n",
       "8920               0              3.7               254   \n",
       "8921             188              3.5              3169   \n",
       "8922               6                -                18   \n",
       "\n",
       "                   KnownFor  \\\n",
       "0                       NaN   \n",
       "1     Spicy Chicken Biryani   \n",
       "2                       NaN   \n",
       "3                       NaN   \n",
       "4                       NaN   \n",
       "...                     ...   \n",
       "8918                    NaN   \n",
       "8919                    NaN   \n",
       "8920                    NaN   \n",
       "8921                    NaN   \n",
       "8922                    NaN   \n",
       "\n",
       "                                          PopularDishes  \\\n",
       "0     Filtered Coffee, Sambhar, Pav Bhaji, Gobi Manc...   \n",
       "1     Authentic Hyderabadi Biryani, Paneer Biryani, ...   \n",
       "2                                                   NaN   \n",
       "3     Barbeque Chicken Pizza, Choco Lava Cake, White...   \n",
       "4      Fiery Chicken, Chicken Popcorn, Rice Bowl, Wings   \n",
       "...                                                 ...   \n",
       "8918                                                NaN   \n",
       "8919  Neer Dosa, Chicken Ghee Roast, Seafood, Crab, ...   \n",
       "8920                                                NaN   \n",
       "8921                                                NaN   \n",
       "8922                                                NaN   \n",
       "\n",
       "                                         PeopleKnownFor  AverageCost  \n",
       "0     Economical, Prompt Service, Hygiene, Quality F...          450  \n",
       "1     Boneless Chicken Biryani, Ample Seating Area, ...          700  \n",
       "2     Great Recommendations, Nice Taste, Great Ambia...          300  \n",
       "3     Value for Money, Packaging, Staff, Ambience, Food          400  \n",
       "4     Elegantly Decorated, Great Recommendations, Vi...          400  \n",
       "...                                                 ...          ...  \n",
       "8918  Cheap and Affordable, Served Quickly, Fresh Fo...          300  \n",
       "8919  Authentic, Cashless Payments, Preparation, Dec...         1200  \n",
       "8920  Contactless Delivery, Portion, Great Portions,...          300  \n",
       "8921  Calm, Prompt Service, Portions, Spicy, Delicio...          400  \n",
       "8922                                                NaN          300  \n",
       "\n",
       "[8923 rows x 19 columns]"
      ]
     },
     "execution_count": 3,
     "metadata": {},
     "output_type": "execute_result"
    }
   ],
   "source": [
    "Data"
   ]
  },
  {
   "cell_type": "code",
   "execution_count": 4,
   "id": "a913aadd",
   "metadata": {},
   "outputs": [
    {
     "data": {
      "text/html": [
       "<div>\n",
       "<style scoped>\n",
       "    .dataframe tbody tr th:only-of-type {\n",
       "        vertical-align: middle;\n",
       "    }\n",
       "\n",
       "    .dataframe tbody tr th {\n",
       "        vertical-align: top;\n",
       "    }\n",
       "\n",
       "    .dataframe thead th {\n",
       "        text-align: right;\n",
       "    }\n",
       "</style>\n",
       "<table border=\"1\" class=\"dataframe\">\n",
       "  <thead>\n",
       "    <tr style=\"text-align: right;\">\n",
       "      <th></th>\n",
       "      <th>Name</th>\n",
       "      <th>URL</th>\n",
       "      <th>Cuisines</th>\n",
       "      <th>Area</th>\n",
       "      <th>Timing</th>\n",
       "      <th>Full_Address</th>\n",
       "      <th>PhoneNumber</th>\n",
       "      <th>IsHomeDelivery</th>\n",
       "      <th>isTakeaway</th>\n",
       "      <th>isIndoorSeating</th>\n",
       "      <th>isVegOnly</th>\n",
       "      <th>Dinner Ratings</th>\n",
       "      <th>Dinner Reviews</th>\n",
       "      <th>Delivery Ratings</th>\n",
       "      <th>Delivery Reviews</th>\n",
       "      <th>KnownFor</th>\n",
       "      <th>PopularDishes</th>\n",
       "      <th>PeopleKnownFor</th>\n",
       "      <th>AverageCost</th>\n",
       "    </tr>\n",
       "  </thead>\n",
       "  <tbody>\n",
       "    <tr>\n",
       "      <th>0</th>\n",
       "      <td>Sri Udupi Park</td>\n",
       "      <td>https://www.zomato.com/bangalore/sri-udupi-par...</td>\n",
       "      <td>South Indian, North Indian, Chinese, Street Fo...</td>\n",
       "      <td>Indiranagar, Bangalore</td>\n",
       "      <td>7am – 11pm (Today)</td>\n",
       "      <td>273, Monalisa, 6th Main, 100 Feet Road, Indira...</td>\n",
       "      <td>+919945977774</td>\n",
       "      <td>1</td>\n",
       "      <td>1</td>\n",
       "      <td>1</td>\n",
       "      <td>1</td>\n",
       "      <td>4.0</td>\n",
       "      <td>462</td>\n",
       "      <td>4.1</td>\n",
       "      <td>16000</td>\n",
       "      <td>NaN</td>\n",
       "      <td>Filtered Coffee, Sambhar, Pav Bhaji, Gobi Manc...</td>\n",
       "      <td>Economical, Prompt Service, Hygiene, Quality F...</td>\n",
       "      <td>450</td>\n",
       "    </tr>\n",
       "    <tr>\n",
       "      <th>1</th>\n",
       "      <td>Meghana Foods</td>\n",
       "      <td>https://www.zomato.com/bangalore/meghana-foods...</td>\n",
       "      <td>Biryani, Andhra, North Indian, Seafood</td>\n",
       "      <td>Indiranagar, Bangalore</td>\n",
       "      <td>Opens at 6:30pm</td>\n",
       "      <td>544, First Floor, CMH Road, Near Indiranagar M...</td>\n",
       "      <td>+918041135050</td>\n",
       "      <td>1</td>\n",
       "      <td>1</td>\n",
       "      <td>1</td>\n",
       "      <td>0</td>\n",
       "      <td>4.3</td>\n",
       "      <td>1654</td>\n",
       "      <td>4.3</td>\n",
       "      <td>28600</td>\n",
       "      <td>Spicy Chicken Biryani</td>\n",
       "      <td>Authentic Hyderabadi Biryani, Paneer Biryani, ...</td>\n",
       "      <td>Boneless Chicken Biryani, Ample Seating Area, ...</td>\n",
       "      <td>700</td>\n",
       "    </tr>\n",
       "    <tr>\n",
       "      <th>2</th>\n",
       "      <td>Donne Biriyani House</td>\n",
       "      <td>https://www.zomato.com/bangalore/donne-biriyan...</td>\n",
       "      <td>Biryani</td>\n",
       "      <td>Indiranagar, Bangalore</td>\n",
       "      <td>11am – 11pm (Today)</td>\n",
       "      <td>8/ 9, 17th F Cross, 2nd Stage, Indiranagar, Ba...</td>\n",
       "      <td>+918861564169</td>\n",
       "      <td>1</td>\n",
       "      <td>1</td>\n",
       "      <td>1</td>\n",
       "      <td>0</td>\n",
       "      <td>3.9</td>\n",
       "      <td>411</td>\n",
       "      <td>3.5</td>\n",
       "      <td>33200</td>\n",
       "      <td>NaN</td>\n",
       "      <td>NaN</td>\n",
       "      <td>Great Recommendations, Nice Taste, Great Ambia...</td>\n",
       "      <td>300</td>\n",
       "    </tr>\n",
       "    <tr>\n",
       "      <th>3</th>\n",
       "      <td>Domino's Pizza</td>\n",
       "      <td>https://www.zomato.com/bangalore/dominos-pizza...</td>\n",
       "      <td>Pizza, Fast Food, Desserts</td>\n",
       "      <td>Indiranagar, Bangalore</td>\n",
       "      <td>10:57am – 12midnight (Today)</td>\n",
       "      <td>308, 2nd Stage, 100 Feet Road, Indiranagar, Ba...</td>\n",
       "      <td>+919916465787</td>\n",
       "      <td>1</td>\n",
       "      <td>1</td>\n",
       "      <td>1</td>\n",
       "      <td>0</td>\n",
       "      <td>2.4</td>\n",
       "      <td>422</td>\n",
       "      <td>4.4</td>\n",
       "      <td>8205</td>\n",
       "      <td>NaN</td>\n",
       "      <td>Barbeque Chicken Pizza, Choco Lava Cake, White...</td>\n",
       "      <td>Value for Money, Packaging, Staff, Ambience, Food</td>\n",
       "      <td>400</td>\n",
       "    </tr>\n",
       "    <tr>\n",
       "      <th>4</th>\n",
       "      <td>KFC</td>\n",
       "      <td>https://www.zomato.com/bangalore/kfc-indiranagar</td>\n",
       "      <td>Burger, Fast Food, Biryani, Desserts, Beverages</td>\n",
       "      <td>Indiranagar, Bangalore</td>\n",
       "      <td>11am – 11pm (Today)</td>\n",
       "      <td>38/1A, CMH Road, Indiranagar, Bangalore</td>\n",
       "      <td>+919513700040</td>\n",
       "      <td>1</td>\n",
       "      <td>1</td>\n",
       "      <td>1</td>\n",
       "      <td>0</td>\n",
       "      <td>2.8</td>\n",
       "      <td>673</td>\n",
       "      <td>4.0</td>\n",
       "      <td>9148</td>\n",
       "      <td>NaN</td>\n",
       "      <td>Fiery Chicken, Chicken Popcorn, Rice Bowl, Wings</td>\n",
       "      <td>Elegantly Decorated, Great Recommendations, Vi...</td>\n",
       "      <td>400</td>\n",
       "    </tr>\n",
       "  </tbody>\n",
       "</table>\n",
       "</div>"
      ],
      "text/plain": [
       "                   Name                                                URL  \\\n",
       "0        Sri Udupi Park  https://www.zomato.com/bangalore/sri-udupi-par...   \n",
       "1         Meghana Foods  https://www.zomato.com/bangalore/meghana-foods...   \n",
       "2  Donne Biriyani House  https://www.zomato.com/bangalore/donne-biriyan...   \n",
       "3        Domino's Pizza  https://www.zomato.com/bangalore/dominos-pizza...   \n",
       "4                   KFC   https://www.zomato.com/bangalore/kfc-indiranagar   \n",
       "\n",
       "                                            Cuisines                    Area  \\\n",
       "0  South Indian, North Indian, Chinese, Street Fo...  Indiranagar, Bangalore   \n",
       "1             Biryani, Andhra, North Indian, Seafood  Indiranagar, Bangalore   \n",
       "2                                            Biryani  Indiranagar, Bangalore   \n",
       "3                         Pizza, Fast Food, Desserts  Indiranagar, Bangalore   \n",
       "4    Burger, Fast Food, Biryani, Desserts, Beverages  Indiranagar, Bangalore   \n",
       "\n",
       "                         Timing  \\\n",
       "0            7am – 11pm (Today)   \n",
       "1               Opens at 6:30pm   \n",
       "2           11am – 11pm (Today)   \n",
       "3  10:57am – 12midnight (Today)   \n",
       "4           11am – 11pm (Today)   \n",
       "\n",
       "                                        Full_Address    PhoneNumber  \\\n",
       "0  273, Monalisa, 6th Main, 100 Feet Road, Indira...  +919945977774   \n",
       "1  544, First Floor, CMH Road, Near Indiranagar M...  +918041135050   \n",
       "2  8/ 9, 17th F Cross, 2nd Stage, Indiranagar, Ba...  +918861564169   \n",
       "3  308, 2nd Stage, 100 Feet Road, Indiranagar, Ba...  +919916465787   \n",
       "4            38/1A, CMH Road, Indiranagar, Bangalore  +919513700040   \n",
       "\n",
       "   IsHomeDelivery  isTakeaway  isIndoorSeating  isVegOnly Dinner Ratings  \\\n",
       "0               1           1                1          1            4.0   \n",
       "1               1           1                1          0            4.3   \n",
       "2               1           1                1          0            3.9   \n",
       "3               1           1                1          0            2.4   \n",
       "4               1           1                1          0            2.8   \n",
       "\n",
       "   Dinner Reviews Delivery Ratings  Delivery Reviews               KnownFor  \\\n",
       "0             462              4.1             16000                    NaN   \n",
       "1            1654              4.3             28600  Spicy Chicken Biryani   \n",
       "2             411              3.5             33200                    NaN   \n",
       "3             422              4.4              8205                    NaN   \n",
       "4             673              4.0              9148                    NaN   \n",
       "\n",
       "                                       PopularDishes  \\\n",
       "0  Filtered Coffee, Sambhar, Pav Bhaji, Gobi Manc...   \n",
       "1  Authentic Hyderabadi Biryani, Paneer Biryani, ...   \n",
       "2                                                NaN   \n",
       "3  Barbeque Chicken Pizza, Choco Lava Cake, White...   \n",
       "4   Fiery Chicken, Chicken Popcorn, Rice Bowl, Wings   \n",
       "\n",
       "                                      PeopleKnownFor  AverageCost  \n",
       "0  Economical, Prompt Service, Hygiene, Quality F...          450  \n",
       "1  Boneless Chicken Biryani, Ample Seating Area, ...          700  \n",
       "2  Great Recommendations, Nice Taste, Great Ambia...          300  \n",
       "3  Value for Money, Packaging, Staff, Ambience, Food          400  \n",
       "4  Elegantly Decorated, Great Recommendations, Vi...          400  "
      ]
     },
     "execution_count": 4,
     "metadata": {},
     "output_type": "execute_result"
    }
   ],
   "source": [
    "Data.head()"
   ]
  },
  {
   "cell_type": "code",
   "execution_count": 5,
   "id": "4214a27b",
   "metadata": {},
   "outputs": [
    {
     "name": "stdout",
     "output_type": "stream",
     "text": [
      "<class 'pandas.core.frame.DataFrame'>\n",
      "RangeIndex: 8923 entries, 0 to 8922\n",
      "Data columns (total 19 columns):\n",
      " #   Column            Non-Null Count  Dtype \n",
      "---  ------            --------------  ----- \n",
      " 0   Name              8923 non-null   object\n",
      " 1   URL               8923 non-null   object\n",
      " 2   Cuisines          8923 non-null   object\n",
      " 3   Area              8923 non-null   object\n",
      " 4   Timing            5820 non-null   object\n",
      " 5   Full_Address      8923 non-null   object\n",
      " 6   PhoneNumber       8923 non-null   object\n",
      " 7   IsHomeDelivery    8923 non-null   int64 \n",
      " 8   isTakeaway        8923 non-null   int64 \n",
      " 9   isIndoorSeating   8923 non-null   int64 \n",
      " 10  isVegOnly         8923 non-null   int64 \n",
      " 11  Dinner Ratings    8923 non-null   object\n",
      " 12  Dinner Reviews    8923 non-null   int64 \n",
      " 13  Delivery Ratings  8923 non-null   object\n",
      " 14  Delivery Reviews  8923 non-null   int64 \n",
      " 15  KnownFor          258 non-null    object\n",
      " 16  PopularDishes     1535 non-null   object\n",
      " 17  PeopleKnownFor    3484 non-null   object\n",
      " 18  AverageCost       8923 non-null   int64 \n",
      "dtypes: int64(7), object(12)\n",
      "memory usage: 1.3+ MB\n"
     ]
    }
   ],
   "source": [
    "Data.info()"
   ]
  },
  {
   "cell_type": "code",
   "execution_count": 6,
   "id": "0ce2caae",
   "metadata": {},
   "outputs": [
    {
     "data": {
      "text/html": [
       "<div>\n",
       "<style scoped>\n",
       "    .dataframe tbody tr th:only-of-type {\n",
       "        vertical-align: middle;\n",
       "    }\n",
       "\n",
       "    .dataframe tbody tr th {\n",
       "        vertical-align: top;\n",
       "    }\n",
       "\n",
       "    .dataframe thead th {\n",
       "        text-align: right;\n",
       "    }\n",
       "</style>\n",
       "<table border=\"1\" class=\"dataframe\">\n",
       "  <thead>\n",
       "    <tr style=\"text-align: right;\">\n",
       "      <th></th>\n",
       "      <th>IsHomeDelivery</th>\n",
       "      <th>isTakeaway</th>\n",
       "      <th>isIndoorSeating</th>\n",
       "      <th>isVegOnly</th>\n",
       "      <th>Dinner Reviews</th>\n",
       "      <th>Delivery Reviews</th>\n",
       "      <th>AverageCost</th>\n",
       "    </tr>\n",
       "  </thead>\n",
       "  <tbody>\n",
       "    <tr>\n",
       "      <th>count</th>\n",
       "      <td>8923.000000</td>\n",
       "      <td>8923.000000</td>\n",
       "      <td>8923.000000</td>\n",
       "      <td>8923.000000</td>\n",
       "      <td>8923.000000</td>\n",
       "      <td>8923.000000</td>\n",
       "      <td>8923.000000</td>\n",
       "    </tr>\n",
       "    <tr>\n",
       "      <th>mean</th>\n",
       "      <td>0.997871</td>\n",
       "      <td>0.660092</td>\n",
       "      <td>0.442676</td>\n",
       "      <td>0.072285</td>\n",
       "      <td>157.106018</td>\n",
       "      <td>2014.709403</td>\n",
       "      <td>340.225261</td>\n",
       "    </tr>\n",
       "    <tr>\n",
       "      <th>std</th>\n",
       "      <td>0.046098</td>\n",
       "      <td>0.473704</td>\n",
       "      <td>0.496731</td>\n",
       "      <td>0.258974</td>\n",
       "      <td>731.834227</td>\n",
       "      <td>5524.430542</td>\n",
       "      <td>308.338943</td>\n",
       "    </tr>\n",
       "    <tr>\n",
       "      <th>min</th>\n",
       "      <td>0.000000</td>\n",
       "      <td>0.000000</td>\n",
       "      <td>0.000000</td>\n",
       "      <td>0.000000</td>\n",
       "      <td>0.000000</td>\n",
       "      <td>0.000000</td>\n",
       "      <td>50.000000</td>\n",
       "    </tr>\n",
       "    <tr>\n",
       "      <th>25%</th>\n",
       "      <td>1.000000</td>\n",
       "      <td>0.000000</td>\n",
       "      <td>0.000000</td>\n",
       "      <td>0.000000</td>\n",
       "      <td>0.000000</td>\n",
       "      <td>42.000000</td>\n",
       "      <td>150.000000</td>\n",
       "    </tr>\n",
       "    <tr>\n",
       "      <th>50%</th>\n",
       "      <td>1.000000</td>\n",
       "      <td>1.000000</td>\n",
       "      <td>0.000000</td>\n",
       "      <td>0.000000</td>\n",
       "      <td>0.000000</td>\n",
       "      <td>279.000000</td>\n",
       "      <td>250.000000</td>\n",
       "    </tr>\n",
       "    <tr>\n",
       "      <th>75%</th>\n",
       "      <td>1.000000</td>\n",
       "      <td>1.000000</td>\n",
       "      <td>1.000000</td>\n",
       "      <td>0.000000</td>\n",
       "      <td>43.000000</td>\n",
       "      <td>1493.500000</td>\n",
       "      <td>400.000000</td>\n",
       "    </tr>\n",
       "    <tr>\n",
       "      <th>max</th>\n",
       "      <td>1.000000</td>\n",
       "      <td>1.000000</td>\n",
       "      <td>1.000000</td>\n",
       "      <td>1.000000</td>\n",
       "      <td>26500.000000</td>\n",
       "      <td>99600.000000</td>\n",
       "      <td>4200.000000</td>\n",
       "    </tr>\n",
       "  </tbody>\n",
       "</table>\n",
       "</div>"
      ],
      "text/plain": [
       "       IsHomeDelivery   isTakeaway  isIndoorSeating    isVegOnly  \\\n",
       "count     8923.000000  8923.000000      8923.000000  8923.000000   \n",
       "mean         0.997871     0.660092         0.442676     0.072285   \n",
       "std          0.046098     0.473704         0.496731     0.258974   \n",
       "min          0.000000     0.000000         0.000000     0.000000   \n",
       "25%          1.000000     0.000000         0.000000     0.000000   \n",
       "50%          1.000000     1.000000         0.000000     0.000000   \n",
       "75%          1.000000     1.000000         1.000000     0.000000   \n",
       "max          1.000000     1.000000         1.000000     1.000000   \n",
       "\n",
       "       Dinner Reviews  Delivery Reviews  AverageCost  \n",
       "count     8923.000000       8923.000000  8923.000000  \n",
       "mean       157.106018       2014.709403   340.225261  \n",
       "std        731.834227       5524.430542   308.338943  \n",
       "min          0.000000          0.000000    50.000000  \n",
       "25%          0.000000         42.000000   150.000000  \n",
       "50%          0.000000        279.000000   250.000000  \n",
       "75%         43.000000       1493.500000   400.000000  \n",
       "max      26500.000000      99600.000000  4200.000000  "
      ]
     },
     "execution_count": 6,
     "metadata": {},
     "output_type": "execute_result"
    }
   ],
   "source": [
    "Data.describe()"
   ]
  },
  {
   "cell_type": "code",
   "execution_count": 7,
   "id": "05cb5b79",
   "metadata": {},
   "outputs": [
    {
     "data": {
      "text/plain": [
       "(8923, 19)"
      ]
     },
     "execution_count": 7,
     "metadata": {},
     "output_type": "execute_result"
    }
   ],
   "source": [
    "Data.shape"
   ]
  },
  {
   "cell_type": "code",
   "execution_count": 8,
   "id": "e6f12d4d",
   "metadata": {},
   "outputs": [
    {
     "data": {
      "text/plain": [
       "Index(['Name', 'URL', 'Cuisines', 'Area', 'Timing', 'Full_Address',\n",
       "       'PhoneNumber', 'IsHomeDelivery', 'isTakeaway', 'isIndoorSeating',\n",
       "       'isVegOnly', 'Dinner Ratings', 'Dinner Reviews', 'Delivery Ratings',\n",
       "       'Delivery Reviews', 'KnownFor', 'PopularDishes', 'PeopleKnownFor',\n",
       "       'AverageCost'],\n",
       "      dtype='object')"
      ]
     },
     "execution_count": 8,
     "metadata": {},
     "output_type": "execute_result"
    }
   ],
   "source": [
    "Data.columns"
   ]
  },
  {
   "cell_type": "code",
   "execution_count": 9,
   "id": "a3670259",
   "metadata": {},
   "outputs": [
    {
     "name": "stdout",
     "output_type": "stream",
     "text": [
      "0     462\n",
      "1    1654\n",
      "2     411\n",
      "3     422\n",
      "4     673\n",
      "5       0\n",
      "6    1499\n",
      "7     500\n",
      "8     708\n",
      "9       0\n",
      "Name: Dinner Reviews, dtype: int64\n"
     ]
    }
   ],
   "source": [
    "print(Data['Dinner Reviews'].head(10))"
   ]
  },
  {
   "cell_type": "code",
   "execution_count": 10,
   "id": "6868c1b6",
   "metadata": {},
   "outputs": [],
   "source": [
    "import matplotlib.pyplot as plt"
   ]
  },
  {
   "cell_type": "code",
   "execution_count": 11,
   "id": "e6599c10",
   "metadata": {},
   "outputs": [
    {
     "name": "stdout",
     "output_type": "stream",
     "text": [
      "Area\n",
      "Electronic City, Bangalore    674\n",
      "Marathahalli, Bangalore       484\n",
      "HSR, Bangalore                457\n",
      "Whitefield, Bangalore         447\n",
      "BTM, Bangalore                397\n",
      "JP Nagar, Bangalore           292\n",
      "Indiranagar, Bangalore        292\n",
      "Sarjapur Road, Bangalore      284\n",
      "Rajajinagar, Bangalore        237\n",
      "New BEL Road, Bangalore       232\n",
      "Name: count, dtype: int64\n"
     ]
    }
   ],
   "source": [
    "area_counts = Data['Area'].value_counts().head(10)\n",
    "print(area_counts)"
   ]
  },
  {
   "cell_type": "code",
   "execution_count": 12,
   "id": "9c777165",
   "metadata": {},
   "outputs": [],
   "source": [
    "# Create a Bar plot"
   ]
  },
  {
   "cell_type": "code",
   "execution_count": 13,
   "id": "ba869a30",
   "metadata": {},
   "outputs": [
    {
     "data": {
      "text/plain": [
       "<Figure size 1000x600 with 0 Axes>"
      ]
     },
     "execution_count": 13,
     "metadata": {},
     "output_type": "execute_result"
    },
    {
     "data": {
      "text/plain": [
       "<Figure size 1000x600 with 0 Axes>"
      ]
     },
     "metadata": {},
     "output_type": "display_data"
    }
   ],
   "source": [
    "plt.figure(figsize=(10,6))"
   ]
  },
  {
   "cell_type": "code",
   "execution_count": 14,
   "id": "80ef4442",
   "metadata": {},
   "outputs": [
    {
     "data": {
      "text/plain": [
       "<Axes: xlabel='Area'>"
      ]
     },
     "execution_count": 14,
     "metadata": {},
     "output_type": "execute_result"
    },
    {
     "data": {
      "image/png": "[encoded data removed]",
      "text/plain": [
       "<Figure size 640x480 with 1 Axes>"
      ]
     },
     "metadata": {},
     "output_type": "display_data"
    }
   ],
   "source": [
    "area_counts.plot(kind='bar')"
   ]
  },
  {
   "cell_type": "code",
   "execution_count": 15,
   "id": "25b67c3e",
   "metadata": {},
   "outputs": [
    {
     "data": {
      "text/plain": [
       "Text(0.5, 1.0, 'Top Areas with the Most Restaurants')"
      ]
     },
     "execution_count": 15,
     "metadata": {},
     "output_type": "execute_result"
    },
    {
     "data": {
      "image/png": "[encoded data removed]",
      "text/plain": [
       "<Figure size 640x480 with 1 Axes>"
      ]
     },
     "metadata": {},
     "output_type": "display_data"
    }
   ],
   "source": [
    "plt.title('Top Areas with the Most Restaurants')"
   ]
  },
  {
   "cell_type": "code",
   "execution_count": 16,
   "id": "730113b5",
   "metadata": {},
   "outputs": [
    {
     "data": {
      "text/plain": [
       "Text(0, 0.5, 'Number of Restaurants')"
      ]
     },
     "execution_count": 16,
     "metadata": {},
     "output_type": "execute_result"
    },
    {
     "data": {
      "image/png": "[encoded data removed]",
      "text/plain": [
       "<Figure size 640x480 with 1 Axes>"
      ]
     },
     "metadata": {},
     "output_type": "display_data"
    }
   ],
   "source": [
    "plt.xlabel('Area')\n",
    "plt.ylabel('Number of Restaurants')"
   ]
  },
  {
   "cell_type": "code",
   "execution_count": 17,
   "id": "07cc464f",
   "metadata": {},
   "outputs": [],
   "source": [
    "\n",
    "plt.show()\n"
   ]
  },
  {
   "cell_type": "code",
   "execution_count": 18,
   "id": "bc74a08a",
   "metadata": {},
   "outputs": [
    {
     "data": {
      "image/png": "[encoded data removed]",
      "text/plain": [
       "<Figure size 640x480 with 1 Axes>"
      ]
     },
     "metadata": {},
     "output_type": "display_data"
    }
   ],
   "source": [
    "plt.xticks(rotation=45)  # Rotate x-axis labels for readability\n",
    "plt.show()"
   ]
  },
  {
   "cell_type": "code",
   "execution_count": 19,
   "id": "e5edc641",
   "metadata": {},
   "outputs": [
    {
     "data": {
      "text/plain": [
       "<Axes: ylabel='count'>"
      ]
     },
     "execution_count": 19,
     "metadata": {},
     "output_type": "execute_result"
    },
    {
     "data": {
      "image/png": "[encoded data removed]",
      "text/plain": [
       "<Figure size 640x480 with 1 Axes>"
      ]
     },
     "metadata": {},
     "output_type": "display_data"
    }
   ],
   "source": [
    "area_counts.plot(kind='pie')"
   ]
  },
  {
   "cell_type": "code",
   "execution_count": 20,
   "id": "4efbe566",
   "metadata": {},
   "outputs": [
    {
     "data": {
      "text/plain": [
       "<Axes: xlabel='Area'>"
      ]
     },
     "execution_count": 20,
     "metadata": {},
     "output_type": "execute_result"
    },
    {
     "data": {
      "image/png": "[encoded data removed]",
      "text/plain": [
       "<Figure size 640x480 with 1 Axes>"
      ]
     },
     "metadata": {},
     "output_type": "display_data"
    }
   ],
   "source": [
    "area_counts.plot(kind='bar')"
   ]
  },
  {
   "cell_type": "code",
   "execution_count": 21,
   "id": "2c0d8873",
   "metadata": {},
   "outputs": [],
   "source": [
    "electronic_city_restaurants = Data[Data['Area'] == 'Electronic City, Bangalore']"
   ]
  },
  {
   "cell_type": "code",
   "execution_count": 22,
   "id": "e9aa28f1",
   "metadata": {},
   "outputs": [],
   "source": [
    "electronic_city_restaurants.loc[:, 'Dinner Ratings'] = pd.to_numeric(\n",
    "    electronic_city_restaurants['Dinner Ratings'], errors='coerce')\n",
    "electronic_city_restaurants.loc[:, 'Dinner Reviews'] = pd.to_numeric(\n",
    "    electronic_city_restaurants['Dinner Reviews'], errors='coerce')\n"
   ]
  },
  {
   "cell_type": "code",
   "execution_count": 23,
   "id": "ff735ab3",
   "metadata": {},
   "outputs": [
    {
     "name": "stdout",
     "output_type": "stream",
     "text": [
      "                              Name Dinner Ratings  Dinner Reviews\n",
      "6731              The Big Barbeque            4.5            6983\n",
      "6571               Barbeque Nation            4.5            4757\n",
      "6920              Gilly's Restobar            4.4            3229\n",
      "6713                  Fire Station            4.3            3084\n",
      "4372          46 Ounces Brewgarden            4.5            3026\n",
      "6558              Paradise Biryani            4.2            2413\n",
      "6799               BLR Brewing Co.            4.4            1500\n",
      "7212            The Rasoiya Street            4.3            1457\n",
      "6602              Moriz Restaurant            2.3            1265\n",
      "6662  Time Traveller - Sai Vishram            4.4             996\n"
     ]
    }
   ],
   "source": [
    "top_rated_electronic_city_restaurants = electronic_city_restaurants.sort_values(\n",
    "    by='Dinner Ratings', ascending=False)\n",
    "\n",
    "# Then, sort by 'Dinner Reviews' in descending order\n",
    "top_rated_electronic_city_restaurants = top_rated_electronic_city_restaurants.sort_values(\n",
    "    by='Dinner Reviews', ascending=False)\n",
    "\n",
    "# Display the top-rated restaurants sorted by dinner reviews\n",
    "print(top_rated_electronic_city_restaurants[['Name', 'Dinner Ratings', 'Dinner Reviews']].head(10))"
   ]
  },
  {
   "cell_type": "code",
   "execution_count": 24,
   "id": "24215177",
   "metadata": {},
   "outputs": [],
   "source": [
    "electronic_city_restaurants = Data[Data['Area'] == 'Electronic City, Bangalore']\n",
    "top_rated_restaurant_names = top_rated_electronic_city_restaurants['Name'].tolist()\n",
    "top_rated_electronic_city_restaurants = electronic_city_restaurants[electronic_city_restaurants['Name'].isin(top_rated_restaurant_names)]\n"
   ]
  },
  {
   "cell_type": "code",
   "execution_count": 25,
   "id": "8fe1959f",
   "metadata": {},
   "outputs": [
    {
     "name": "stdout",
     "output_type": "stream",
     "text": [
      "Cuisines\n",
      "North Indian    306\n",
      "Chinese         271\n",
      "Biryani         217\n",
      "Beverages       148\n",
      "Fast Food       118\n",
      "South Indian    112\n",
      "Desserts        109\n",
      "Mughlai          74\n",
      "Street Food      62\n",
      "Kebab            55\n",
      "Shake            50\n",
      "Ice Cream        47\n",
      "Momos            39\n",
      "Bakery           35\n",
      "Burger           27\n",
      "Name: count, dtype: int64\n"
     ]
    }
   ],
   "source": [
    "# Split and flatten the cuisines into a list\n",
    "cuisine_lists = top_rated_electronic_city_restaurants['Cuisines'].str.split(', ').explode()\n",
    "\n",
    "# Get the value counts of each cuisine\n",
    "top_cuisines = cuisine_lists.value_counts()\n",
    "\n",
    "# Display the top cuisines\n",
    "print(top_cuisines.head(15))"
   ]
  },
  {
   "cell_type": "code",
   "execution_count": 26,
   "id": "9f68ac0c",
   "metadata": {},
   "outputs": [
    {
     "name": "stdout",
     "output_type": "stream",
     "text": [
      "The average cost for the top-rated restaurants in Electronic City is 277.45 INR\n"
     ]
    }
   ],
   "source": [
    "average_cost = top_rated_electronic_city_restaurants['AverageCost'].mean()\n",
    "\n",
    "#  the average cost\n",
    "print(f\"The average cost for the top-rated restaurants in Electronic City is {average_cost:.2f} INR\")"
   ]
  },
  {
   "cell_type": "code",
   "execution_count": 27,
   "id": "1d4ca710",
   "metadata": {},
   "outputs": [],
   "source": [
    "# only Electronic city restaurents\n",
    "electronic_city_restaurants = Data[Data['Area'] == 'Electronic City, Bangalore']"
   ]
  },
  {
   "cell_type": "code",
   "execution_count": 28,
   "id": "8d8a80aa",
   "metadata": {},
   "outputs": [],
   "source": [
    "cuisine_lists = electronic_city_restaurants['Cuisines'].str.split(', ').explode()"
   ]
  },
  {
   "cell_type": "code",
   "execution_count": 29,
   "id": "04aec183",
   "metadata": {},
   "outputs": [],
   "source": [
    "cuisine_counts = cuisine_lists.value_counts()"
   ]
  },
  {
   "cell_type": "code",
   "execution_count": 30,
   "id": "ebd90b6f",
   "metadata": {},
   "outputs": [],
   "source": [
    "max_restaurants_threshold = 15"
   ]
  },
  {
   "cell_type": "code",
   "execution_count": 31,
   "id": "f6c295c4",
   "metadata": {},
   "outputs": [],
   "source": [
    "popular_cuisines = cuisine_counts[cuisine_counts <= max_restaurants_threshold]"
   ]
  },
  {
   "cell_type": "code",
   "execution_count": 32,
   "id": "bc526969",
   "metadata": {},
   "outputs": [
    {
     "name": "stdout",
     "output_type": "stream",
     "text": [
      "Cuisines\n",
      "Arabian             15\n",
      "Kerala              15\n",
      "Mithai              12\n",
      "BBQ                 12\n",
      "Healthy Food        11\n",
      "Bengali              9\n",
      "Continental          9\n",
      "Thai                 9\n",
      "Asian                8\n",
      "Lebanese             7\n",
      "Italian              7\n",
      "Hyderabadi           7\n",
      "Wraps                7\n",
      "Pasta                6\n",
      "Tea                  6\n",
      "Finger Food          5\n",
      "Odia                 5\n",
      "Chettinad            4\n",
      "Salad                4\n",
      "Mexican              4\n",
      "Waffle               4\n",
      "Mangalorean          3\n",
      "Maharashtrian        3\n",
      "Awadhi               3\n",
      "Coffee               2\n",
      "Tibetan              1\n",
      "Cafe                 1\n",
      "Afghan               1\n",
      "Rajasthani           1\n",
      "Vietnamese           1\n",
      "Sushi                1\n",
      "Korean               1\n",
      "Indonesian           1\n",
      "Burmese              1\n",
      "Japanese             1\n",
      "Kashmiri             1\n",
      "Charcoal Chicken     1\n",
      "Tamil                1\n",
      "Name: count, dtype: int64\n"
     ]
    }
   ],
   "source": [
    "print(popular_cuisines)"
   ]
  },
  {
   "cell_type": "code",
   "execution_count": null,
   "id": "721175f7",
   "metadata": {},
   "outputs": [],
   "source": []
  }
 ],
 "metadata": {
  "kernelspec": {
   "display_name": "Python 3",
   "language": "python",
   "name": "python3"
  },
  "language_info": {
   "codemirror_mode": {
    "name": "ipython",
    "version": 3
   },
   "file_extension": ".py",
   "mimetype": "text/x-python",
   "name": "python",
   "nbconvert_exporter": "python",
   "pygments_lexer": "ipython3",
   "version": "3.13.1"
  }
 },
 "nbformat": 4,
 "nbformat_minor": 5
}
